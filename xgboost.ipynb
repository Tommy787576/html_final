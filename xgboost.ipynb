{
 "cells": [
  {
   "cell_type": "code",
   "execution_count": 42,
   "metadata": {},
   "outputs": [],
   "source": [
    "import numpy as np\n",
    "import pandas as pd\n",
    "from sklearn.model_selection import train_test_split"
   ]
  },
  {
   "cell_type": "code",
   "execution_count": 43,
   "metadata": {},
   "outputs": [],
   "source": [
    "trainft = pd.read_csv('train_fix.csv')\n",
    "testft = pd.read_csv('test_fix.csv')\n",
    "trainorg = pd.read_csv('train_org.csv')"
   ]
  },
  {
   "cell_type": "code",
   "execution_count": 44,
   "metadata": {
    "scrolled": true
   },
   "outputs": [
    {
     "name": "stdout",
     "output_type": "stream",
     "text": [
      "The shape of train features is: (91531, 27)\n",
      "The shape of test features is: (27859, 27)\n"
     ]
    }
   ],
   "source": [
    "print('The shape of train features is:', trainft.shape)\n",
    "print('The shape of test features is:', testft.shape)"
   ]
  },
  {
   "cell_type": "code",
   "execution_count": 45,
   "metadata": {
    "scrolled": true
   },
   "outputs": [
    {
     "name": "stdout",
     "output_type": "stream",
     "text": [
      "(91531, 41)\n",
      "(27859, 41)\n"
     ]
    }
   ],
   "source": [
    "trainft = pd.get_dummies(trainft)\n",
    "testft = pd.get_dummies(testft)\n",
    "labels = np.array(trainorg['is_canceled'])\n",
    "adrlabels = np.array(trainorg['adr'])\n",
    "trainft = trainft.drop('market_segment_Undefined', axis = 1)\n",
    "trainft = trainft.drop('distribution_channel_Undefined', axis = 1)\n",
    "print(trainft.shape)\n",
    "print(testft.shape)"
   ]
  },
  {
   "cell_type": "code",
   "execution_count": 46,
   "metadata": {
    "scrolled": true
   },
   "outputs": [
    {
     "name": "stdout",
     "output_type": "stream",
     "text": [
      "['stays_in_weekend_nights', 'stays_in_week_nights', 'adults', 'children', 'babies', 'booking_changes', 'required_car_parking_spaces', 'total_of_special_requests', 'total_guests', 'total_nights', 'arrival_date_month_number', 'hotel_type', 'country_type', 'reserved_room_type_categorical', 'is_family', 'long_stay', 'is_weekend', 'meal_numerical', 'is_agent', 'is_company', 'lead_time', 'agent', 'company', 'market_segment_Aviation', 'market_segment_Complementary', 'market_segment_Corporate', 'market_segment_Direct', 'market_segment_Groups', 'market_segment_Offline TA/TO', 'market_segment_Online TA', 'distribution_channel_Corporate', 'distribution_channel_Direct', 'distribution_channel_GDS', 'distribution_channel_TA/TO', 'deposit_type_No Deposit', 'deposit_type_Non Refund', 'deposit_type_Refundable', 'customer_type_Contract', 'customer_type_Group', 'customer_type_Transient', 'customer_type_Transient-Party']\n",
      "['stays_in_weekend_nights', 'stays_in_week_nights', 'adults', 'children', 'babies', 'booking_changes', 'required_car_parking_spaces', 'total_of_special_requests', 'total_guests', 'total_nights', 'arrival_date_month_number', 'hotel_type', 'country_type', 'reserved_room_type_categorical', 'is_family', 'long_stay', 'is_weekend', 'meal_numerical', 'is_agent', 'is_company', 'lead_time', 'agent', 'company', 'market_segment_Aviation', 'market_segment_Complementary', 'market_segment_Corporate', 'market_segment_Direct', 'market_segment_Groups', 'market_segment_Offline TA/TO', 'market_segment_Online TA', 'distribution_channel_Corporate', 'distribution_channel_Direct', 'distribution_channel_GDS', 'distribution_channel_TA/TO', 'deposit_type_No Deposit', 'deposit_type_Non Refund', 'deposit_type_Refundable', 'customer_type_Contract', 'customer_type_Group', 'customer_type_Transient', 'customer_type_Transient-Party']\n"
     ]
    }
   ],
   "source": [
    "feature_list = list(trainft.columns)\n",
    "print(feature_list)\n",
    "feature_list = list(testft.columns)\n",
    "print(feature_list)"
   ]
  },
  {
   "cell_type": "code",
   "execution_count": 47,
   "metadata": {},
   "outputs": [],
   "source": [
    "trainft = np.array(trainft)\n",
    "testft = np.array(testft)"
   ]
  },
  {
   "cell_type": "code",
   "execution_count": 48,
   "metadata": {
    "scrolled": true
   },
   "outputs": [],
   "source": [
    "train_features, test_features, train_labels, test_labels = train_test_split(\n",
    "    trainft, labels, test_size=0.25, random_state=42)\n",
    "trainadr_features, testadr_features, trainadr_labels, testadr_labels = train_test_split(\n",
    "    trainft, adrlabels, test_size=0.25, random_state=42)"
   ]
  },
  {
   "cell_type": "code",
   "execution_count": 49,
   "metadata": {},
   "outputs": [],
   "source": [
    "def rmse(predictions, targets):\n",
    "    return np.sqrt(((predictions - targets) ** 2).mean())"
   ]
  },
  {
   "cell_type": "code",
   "execution_count": 51,
   "metadata": {},
   "outputs": [
    {
     "name": "stdout",
     "output_type": "stream",
     "text": [
      "rmse is: 27.508291475263672\n"
     ]
    }
   ],
   "source": [
    "from xgboost import XGBRegressor\n",
    "xgb_adr = XGBRegressor()\n",
    "xgb_adr.fit(trainadr_features, trainadr_labels)\n",
    "predict_adr = xgb_adr.predict(testadr_features)\n",
    "xgbRMSE = rmse(predict_adr, testadr_labels)\n",
    "print(\"rmse is: \" + str(xgbRMSE))"
   ]
  },
  {
   "cell_type": "code",
   "execution_count": 52,
   "metadata": {},
   "outputs": [],
   "source": [
    "testpredict_xgb = xgb_adr.predict(testft)\n",
    "adrpredict_xgb = pd.DataFrame(testpredict_xgb,columns=['predict_adr'])\n",
    "adrpredict_xgb.to_csv('adr_predict.csv')"
   ]
  },
  {
   "cell_type": "code",
   "execution_count": 53,
   "metadata": {},
   "outputs": [
    {
     "name": "stdout",
     "output_type": "stream",
     "text": [
      "[19:57:53] WARNING: C:/Users/Administrator/workspace/xgboost-win64_release_1.3.0/src/learner.cc:1061: Starting in XGBoost 1.3.0, the default evaluation metric used with the objective 'binary:logistic' was changed from 'error' to 'logloss'. Explicitly set eval_metric if you'd like to restore the old behavior.\n",
      "error is: 0.123934798758904\n"
     ]
    }
   ],
   "source": [
    "from xgboost import XGBClassifier\n",
    "xgb_cancel = XGBClassifier()\n",
    "xgb_cancel.fit(train_features, train_labels)\n",
    "predict_cancel = xgb_cancel.predict(test_features)\n",
    "xgberr = abs(predict_cancel - test_labels)\n",
    "print(\"error is: \" + str(np.sum(xgberr) / np.size(xgberr)))"
   ]
  },
  {
   "cell_type": "code",
   "execution_count": 54,
   "metadata": {},
   "outputs": [],
   "source": [
    "cancelpredict_xgb = xgb_cancel.predict(testft)\n",
    "predict_xgb = pd.DataFrame(cancelpredict_xgb,columns=['is_canceled'])\n",
    "predict_xgb.to_csv('xgb_cancelpredict.csv')"
   ]
  }
 ],
 "metadata": {
  "kernelspec": {
   "display_name": "Python 3",
   "language": "python",
   "name": "python3"
  },
  "language_info": {
   "codemirror_mode": {
    "name": "ipython",
    "version": 3
   },
   "file_extension": ".py",
   "mimetype": "text/x-python",
   "name": "python",
   "nbconvert_exporter": "python",
   "pygments_lexer": "ipython3",
   "version": "3.6.6"
  }
 },
 "nbformat": 4,
 "nbformat_minor": 2
}
