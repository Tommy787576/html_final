{
 "cells": [
  {
   "cell_type": "code",
   "execution_count": 107,
   "metadata": {},
   "outputs": [],
   "source": [
    "import numpy as np\n",
    "import pandas as pd\n",
    "from sklearn.preprocessing import StandardScaler\n",
    "from sklearn.model_selection import GridSearchCV\n",
    "from sklearn.model_selection import train_test_split\n",
    "from xgboost import XGBRegressor"
   ]
  },
  {
   "cell_type": "code",
   "execution_count": 108,
   "metadata": {},
   "outputs": [
    {
     "name": "stdout",
     "output_type": "stream",
     "text": [
      "The shape of train features is: (91531, 27)\n",
      "The shape of test features is: (27859, 27)\n"
     ]
    }
   ],
   "source": [
    "train_df = pd.read_csv(\"./train_fix.csv\")\n",
    "train_df_pre = pd.read_csv(\"./train_pre.csv\")\n",
    "test_df = pd.read_csv('test_fix.csv')\n",
    "test_df_pre = pd.read_csv(\"./train_pre.csv\")\n",
    "\n",
    "\n",
    "print('The shape of train features is:', train_df.shape)\n",
    "print('The shape of test features is:', test_df.shape)"
   ]
  },
  {
   "cell_type": "code",
   "execution_count": 109,
   "metadata": {
    "scrolled": true
   },
   "outputs": [
    {
     "name": "stdout",
     "output_type": "stream",
     "text": [
      "(91531, 43)\n",
      "(27859, 43)\n"
     ]
    }
   ],
   "source": [
    "train_df = pd.get_dummies(train_df)\n",
    "test_df = pd.get_dummies(test_df)\n",
    "labels = np.array(train_df_pre['is_canceled'])\n",
    "adrlabels = np.array(train_df_pre['adr'])\n",
    "train_df = train_df.drop('market_segment_Undefined', axis = 1)\n",
    "train_df = train_df.drop('distribution_channel_Undefined', axis = 1)\n",
    "train_df = train_df.join(train_df_pre[\"previous_cancellations\"])\n",
    "train_df = train_df.join(train_df_pre[\"previous_bookings_not_canceled\"])\n",
    "test_df = test_df.join(test_df_pre[\"previous_cancellations\"])\n",
    "test_df = test_df.join(test_df_pre[\"previous_bookings_not_canceled\"])\n",
    "print(train_df.shape)\n",
    "print(test_df.shape)"
   ]
  },
  {
   "cell_type": "code",
   "execution_count": 110,
   "metadata": {},
   "outputs": [
    {
     "name": "stdout",
     "output_type": "stream",
     "text": [
      "['stays_in_weekend_nights', 'stays_in_week_nights', 'adults', 'children', 'babies', 'booking_changes', 'required_car_parking_spaces', 'total_of_special_requests', 'total_guests', 'total_nights', 'arrival_date_month_number', 'hotel_type', 'country_type', 'reserved_room_type_categorical', 'is_family', 'long_stay', 'is_weekend', 'meal_numerical', 'is_agent', 'is_company', 'lead_time', 'agent', 'company', 'market_segment_Aviation', 'market_segment_Complementary', 'market_segment_Corporate', 'market_segment_Direct', 'market_segment_Groups', 'market_segment_Offline TA/TO', 'market_segment_Online TA', 'distribution_channel_Corporate', 'distribution_channel_Direct', 'distribution_channel_GDS', 'distribution_channel_TA/TO', 'deposit_type_No Deposit', 'deposit_type_Non Refund', 'deposit_type_Refundable', 'customer_type_Contract', 'customer_type_Group', 'customer_type_Transient', 'customer_type_Transient-Party', 'previous_cancellations', 'previous_bookings_not_canceled']\n",
      "['stays_in_weekend_nights', 'stays_in_week_nights', 'adults', 'children', 'babies', 'booking_changes', 'required_car_parking_spaces', 'total_of_special_requests', 'total_guests', 'total_nights', 'arrival_date_month_number', 'hotel_type', 'country_type', 'reserved_room_type_categorical', 'is_family', 'long_stay', 'is_weekend', 'meal_numerical', 'is_agent', 'is_company', 'lead_time', 'agent', 'company', 'market_segment_Aviation', 'market_segment_Complementary', 'market_segment_Corporate', 'market_segment_Direct', 'market_segment_Groups', 'market_segment_Offline TA/TO', 'market_segment_Online TA', 'distribution_channel_Corporate', 'distribution_channel_Direct', 'distribution_channel_GDS', 'distribution_channel_TA/TO', 'deposit_type_No Deposit', 'deposit_type_Non Refund', 'deposit_type_Refundable', 'customer_type_Contract', 'customer_type_Group', 'customer_type_Transient', 'customer_type_Transient-Party', 'previous_cancellations', 'previous_bookings_not_canceled']\n"
     ]
    }
   ],
   "source": [
    "feature_list = list(train_df.columns)\n",
    "print(feature_list)\n",
    "feature_list = list(test_df.columns)\n",
    "print(feature_list)"
   ]
  },
  {
   "cell_type": "code",
   "execution_count": 111,
   "metadata": {
    "scrolled": true
   },
   "outputs": [],
   "source": [
    "train_df = np.array(train_df)\n",
    "test_df = np.array(test_df)\n",
    "standardScalerX = StandardScaler()\n",
    "train_df = standardScalerX.fit_transform(train_df)\n",
    "test_df = standardScalerX.transform(test_df)\n",
    "'''\n",
    "total = len(train_df)\n",
    "valid_len = int(total/4)\n",
    "train_len = total-valid_len\n",
    "trainX = train_df[:train_len]\n",
    "validX = train_df[train_len:]\n",
    "trainY = adrlabels[:train_len]\n",
    "validY = adrlabels[train_len:]\n",
    "'''\n",
    "trainX, testX, trainY, testY = train_test_split(\n",
    "    train_df, adrlabels, test_size=0.25, random_state=42)"
   ]
  },
  {
   "cell_type": "code",
   "execution_count": 112,
   "metadata": {},
   "outputs": [],
   "source": [
    "def rmse(predictions, targets):\n",
    "    return np.sqrt(((predictions - targets) ** 2).mean())"
   ]
  },
  {
   "cell_type": "code",
   "execution_count": 113,
   "metadata": {},
   "outputs": [
    {
     "data": {
      "text/plain": [
       "\"\\nparam_tuning = {\\n    'learning_rate': [0.01, 0.1],\\n    'max_depth': [3, 5, 7, 10],\\n    'subsample': [0.5, 0.7],\\n    'colsample_bytree': [0.5, 0.7],\\n    'n_estimators' : [100, 200, 500],\\n    'objective': ['reg:squarederror']\\n}\\n\\nxgb_adr = XGBRegressor()\\ngsearch = GridSearchCV(estimator = xgb_adr,\\n                       param_grid = param_tuning,                        \\n                       #scoring = 'neg_mean_absolute_error', #MAE\\n                       #scoring = 'neg_mean_squared_error',  #MSE\\n                       cv = 5,\\n                       n_jobs = -1,\\n                       verbose = 1)\\n\\ngsearch.fit(trainX, trainY)\\nprint(gsearch.best_params_)\\n\""
      ]
     },
     "execution_count": 113,
     "metadata": {},
     "output_type": "execute_result"
    }
   ],
   "source": [
    "'''\n",
    "param_tuning = {\n",
    "    'learning_rate': [0.01, 0.1],\n",
    "    'max_depth': [3, 5, 7, 10],\n",
    "    'subsample': [0.5, 0.7],\n",
    "    'colsample_bytree': [0.5, 0.7],\n",
    "    'n_estimators' : [100, 200, 500],\n",
    "    'objective': ['reg:squarederror']\n",
    "}\n",
    "\n",
    "xgb_adr = XGBRegressor()\n",
    "gsearch = GridSearchCV(estimator = xgb_adr,\n",
    "                       param_grid = param_tuning,                        \n",
    "                       #scoring = 'neg_mean_absolute_error', #MAE\n",
    "                       #scoring = 'neg_mean_squared_error',  #MSE\n",
    "                       cv = 5,\n",
    "                       n_jobs = -1,\n",
    "                       verbose = 1)\n",
    "\n",
    "gsearch.fit(trainX, trainY)\n",
    "print(gsearch.best_params_)\n",
    "'''"
   ]
  },
  {
   "cell_type": "code",
   "execution_count": 114,
   "metadata": {},
   "outputs": [
    {
     "name": "stdout",
     "output_type": "stream",
     "text": [
      "rmse is: 21.85676119203651\n"
     ]
    }
   ],
   "source": [
    "xgb_adr = XGBRegressor(\n",
    "    objective = 'reg:squarederror',\n",
    "    colsample_bytree = 0.7,\n",
    "    learning_rate = 0.1,\n",
    "    max_depth = 3,\n",
    "    n_estimators = 200,\n",
    "    subsample = 0.5)\n",
    "xgb_adr.fit(trainX, trainY, verbose=False)\n",
    "predict_adr = xgb_adr.predict(validX)\n",
    "xgbRMSE = rmse(predict_adr, validY)\n",
    "print(\"rmse is: \" + str(xgbRMSE))"
   ]
  },
  {
   "cell_type": "code",
   "execution_count": 115,
   "metadata": {},
   "outputs": [],
   "source": [
    "xgb_adr = XGBRegressor(\n",
    "    objective = 'reg:squarederror',\n",
    "    colsample_bytree = 0.7,\n",
    "    learning_rate = 0.1,\n",
    "    max_depth = 3,\n",
    "    n_estimators = 200,\n",
    "    subsample = 0.5)\n",
    "xgb_adr.fit(train_df, adrlabels, verbose=False)\n",
    "testpredict_xgb = xgb_adr.predict(test_df)\n",
    "adrpredict_xgb = pd.DataFrame(testpredict_xgb,columns=['predict_adr'])\n",
    "adrpredict_xgb.to_csv('adr_predict_mod.csv')"
   ]
  }
 ],
 "metadata": {
  "kernelspec": {
   "display_name": "ml python",
   "language": "python",
   "name": "ml"
  },
  "language_info": {
   "codemirror_mode": {
    "name": "ipython",
    "version": 3
   },
   "file_extension": ".py",
   "mimetype": "text/x-python",
   "name": "python",
   "nbconvert_exporter": "python",
   "pygments_lexer": "ipython3",
   "version": "3.7.9"
  }
 },
 "nbformat": 4,
 "nbformat_minor": 4
}
